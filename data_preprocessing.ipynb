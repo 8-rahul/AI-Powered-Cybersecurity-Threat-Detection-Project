{
  "nbformat": 4,
  "nbformat_minor": 0,
  "metadata": {
    "colab": {
      "provenance": []
    },
    "kernelspec": {
      "name": "python3",
      "display_name": "Python 3"
    },
    "language_info": {
      "name": "python"
    }
  },
  "cells": [
    {
      "cell_type": "code",
      "source": [
        "import pandas as pd\n",
        "\n",
        "# Load dataset\n",
        "data = pd.read_csv(\"/content/raw_data.csv\")\n",
        "\n",
        "# Display first five rows\n",
        "print(data.head())\n"
      ],
      "metadata": {
        "colab": {
          "base_uri": "https://localhost:8080/"
        },
        "id": "pSkR5z8U9ngR",
        "outputId": "1316bec6-7540-4b2e-fc7f-bcb999e7a12a"
      },
      "execution_count": 46,
      "outputs": [
        {
          "output_type": "stream",
          "name": "stdout",
          "text": [
            "          timestamp  packet_size  request_frequency  failed_logins  \\\n",
            "0  24-03-2025 12:45         1294                 49              3   \n",
            "1  24-03-2025 19:57          305                 54              2   \n",
            "2  24-03-2025 01:35          565                 22              1   \n",
            "3  24-03-2025 08:15          698                 58              1   \n",
            "4  24-03-2025 10:26          781                 75              4   \n",
            "\n",
            "   threat_label  \n",
            "0             0  \n",
            "1             0  \n",
            "2             0  \n",
            "3             1  \n",
            "4             1  \n"
          ]
        }
      ]
    },
    {
      "cell_type": "code",
      "source": [
        "import pandas as pd\n",
        "from sklearn.preprocessing import StandardScaler\n",
        "\n",
        "# Load dataset\n",
        "data = pd.read_csv(\"/content/raw_data.csv\")\n",
        "\n",
        "\n",
        "# Drop unnecessary columns\n",
        "data = data.drop([\"timestamp\"], axis=1)\n",
        "\n",
        "# Normalize numerical values\n",
        "scaler = StandardScaler()\n",
        "data_scaled = scaler.fit_transform(data.drop(\"threat_label\", axis=1))\n",
        "\n",
        "df.to_csv('cleaned_data.csv', index=False)\n",
        "\n",
        "print(\"Data cleaned, normalized, and saved to 'cleaned_data.csv'\")\n",
        "\n"
      ],
      "metadata": {
        "colab": {
          "base_uri": "https://localhost:8080/"
        },
        "id": "zajnhqL8NzYs",
        "outputId": "23995c67-ffce-4452-a986-d41c6be11058"
      },
      "execution_count": 55,
      "outputs": [
        {
          "output_type": "stream",
          "name": "stdout",
          "text": [
            "Data cleaned, normalized, and saved to 'cleaned_data.csv'\n"
          ]
        }
      ]
    },
    {
      "cell_type": "code",
      "source": [
        "import pandas as pd\n",
        "import joblib\n",
        "from sklearn.model_selection import train_test_split\n",
        "from sklearn.ensemble import RandomForestClassifier\n",
        "from sklearn.metrics import accuracy_score\n",
        "\n",
        "def train_random_forest(input_file, model_file, target_column):\n",
        "    # Load dataset\n",
        "    df = pd.read_csv(input_file)\n",
        "\n",
        "    # Split features and target\n",
        "    X = df.drop(columns=[target_column], errors='ignore')\n",
        "    y = df[target_column]\n",
        "\n",
        "    # Split data into training and testing sets\n",
        "    X_train, X_test, y_train, y_test = train_test_split(X, y, test_size=0.2, random_state=42)\n",
        "\n",
        "    # Train RandomForest model\n",
        "    model = RandomForestClassifier(n_estimators=100, random_state=42)\n",
        "    model.fit(X_train, y_train)\n",
        "\n",
        "    # Evaluate model\n",
        "    y_pred = model.predict(X_test)\n",
        "    accuracy = accuracy_score(y_test, y_pred)\n",
        "    print(f\"Model Accuracy: {accuracy:.2f}\")\n",
        "\n",
        "    # Save the trained model\n",
        "    joblib.dump(model, model_file)\n",
        "    print(f\"Model saved as {model_file}\")\n",
        "\n",
        "# Example usage\n",
        "input_file = \"cleaned_data.csv\"  # Update with actual file path\n",
        "model_file = \"cybersecurity_model.pkl\"\n",
        "target_column = \"threat_label\"  # Update with the actual target column\n",
        "train_random_forest(input_file, model_file, target_column)\n"
      ],
      "metadata": {
        "colab": {
          "base_uri": "https://localhost:8080/"
        },
        "id": "PtGnq4JxBFS7",
        "outputId": "79a3113f-0acf-4b18-a6d8-452c17b16fe1"
      },
      "execution_count": 56,
      "outputs": [
        {
          "output_type": "stream",
          "name": "stdout",
          "text": [
            "Model Accuracy: 0.64\n",
            "Model saved as cybersecurity_model.pkl\n"
          ]
        }
      ]
    }
  ]
}